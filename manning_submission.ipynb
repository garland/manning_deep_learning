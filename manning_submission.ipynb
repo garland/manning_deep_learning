{
 "cells": [
  {
   "cell_type": "markdown",
   "metadata": {
    "pycharm": {
     "is_executing": false,
     "name": "#%% md\n"
    }
   },
   "source": [
    "# A Deep Learning Domain Focused Language Model\n",
    "## Workflow for Mathew Garland  \n",
    "This Notebook must be Trusted for the programmatically generated Markdown headings to display properly,\n",
    "refer: [Jupyter Issue](https://github.com/jupyter/nbconvert/issues/145). \n",
    "\n",
    "If this Notebook is not executed as Trusted some programmatically generated headings may be displayed as: __<IPython.core.display.Markdown object>__.  \n",
    "\n",
    "### Package Imports"
   ]
  },
  {
   "cell_type": "code",
   "execution_count": 31,
   "outputs": [],
   "source": [
    "import pandas as pd\n",
    "# IPython is required for outputting text as Markdown\n",
    "from IPython.display import display, Markdown\n",
    "import re\n",
    "import nltk"
   ],
   "metadata": {
    "collapsed": false,
    "pycharm": {
     "name": "#%%\n",
     "is_executing": false
    }
   }
  },
  {
   "cell_type": "markdown",
   "source": [
    "### Download nltk word tokenizer data"
   ],
   "metadata": {
    "collapsed": false,
    "pycharm": {
     "name": "#%% md\n"
    }
   }
  },
  {
   "cell_type": "code",
   "execution_count": 32,
   "outputs": [
    {
     "name": "stderr",
     "text": [
      "[nltk_data] Downloading package punkt to /home/matgarland/nltk_data...\n",
      "[nltk_data]   Package punkt is already up-to-date!\n",
      "[nltk_data] Downloading package wordnet to\n",
      "[nltk_data]     /home/matgarland/nltk_data...\n",
      "[nltk_data]   Package wordnet is already up-to-date!\n"
     ],
     "output_type": "stream"
    }
   ],
   "source": [
    "nltk.download('punkt')\n",
    "nltk.download('wordnet')\n",
    "from nltk.tokenize import word_tokenize\n",
    "\n"
   ],
   "metadata": {
    "collapsed": false,
    "pycharm": {
     "name": "#%%\n",
     "is_executing": false
    }
   }
  },
  {
   "cell_type": "markdown",
   "metadata": {
    "pycharm": {
     "name": "#%% md\n"
    }
   },
   "source": [
    "### Local Variables"
   ]
  },
  {
   "cell_type": "code",
   "execution_count": 33,
   "metadata": {
    "pycharm": {
     "is_executing": false,
     "name": "#%%\n"
    }
   },
   "outputs": [],
   "source": [
    "# number of csv rows to display\n",
    "DISPLAY_ROWS = 5\n",
    "# file names of csv text data\n",
    "IN_DATA_FILE = \"stackexchange_812k.csv\"\n",
    "OUT_DATA_FILE = \"test_out.csv\" # \"Manning_Submission_1.4.csv\""
   ]
  },
  {
   "cell_type": "markdown",
   "metadata": {
    "pycharm": {
     "is_executing": false,
     "name": "#%% md\n"
    }
   },
   "source": [
    "### Workflow Step 1: Load the dataset into a pandas dataframe."
   ]
  },
  {
   "cell_type": "code",
   "execution_count": 34,
   "metadata": {
    "pycharm": {
     "is_executing": false,
     "name": "#%%\n"
    }
   },
   "outputs": [],
   "source": [
    "# import the csv file that holds our data\n",
    "df = pd.read_csv( IN_DATA_FILE )\n",
    "# Ensure the display of data wraps the DataFrame so all csv data in the cell is visible, i.e. no cell data truncation\n",
    "pd.set_option('max_colwidth', 0)\n",
    "pd.set_option('display.expand_frame_repr', False)"
   ]
  },
  {
   "cell_type": "markdown",
   "metadata": {
    "pycharm": {
     "name": "#%% md\n"
    }
   },
   "source": [
    "### Get the data dimensionality of the CSV data"
   ]
  },
  {
   "cell_type": "code",
   "execution_count": 35,
   "metadata": {
    "pycharm": {
     "is_executing": false,
     "name": "#%%\n"
    }
   },
   "outputs": [
    {
     "data": {
      "text/plain": "<IPython.core.display.Markdown object>",
      "text/markdown": "### Data file: stackexchange_812k.csv, consists of 812132 rows and 5 columns."
     },
     "metadata": {},
     "output_type": "display_data"
    },
    {
     "data": {
      "text/plain": "comment    0.681017\npost       0.206006\ntitle      0.112977\nName: category, dtype: float64"
     },
     "metadata": {},
     "output_type": "execute_result",
     "execution_count": 35
    }
   ],
   "source": [
    "# get the number of rows and columns in the original csv data\n",
    "(rows, cols) = df.shape\n",
    "display( Markdown( '### Data file: {}, consists of {} rows and {} columns.'.format( IN_DATA_FILE, rows, cols ) ) )\n",
    "df['parent_id'].isna().sum()\n",
    "df['post_id'].isna().sum()\n",
    "df['comment_id'].isna().sum()\n",
    "\n",
    "df['category'].value_counts(normalize=True)"
   ]
  },
  {
   "cell_type": "markdown",
   "metadata": {},
   "source": [
    "### CSV data structure"
   ]
  },
  {
   "cell_type": "code",
   "execution_count": 36,
   "metadata": {
    "pycharm": {
     "is_executing": false,
     "name": "#%%\n"
    }
   },
   "outputs": [
    {
     "data": {
      "text/plain": "   post_id  parent_id  comment_id                                                               text category\n0  1       NaN        NaN          Eliciting priors from experts                                      title  \n1  2       NaN        NaN          What is normality?                                                 title  \n2  3       NaN        NaN          What are some valuable Statistical Analysis open source projects?  title  \n3  4       NaN        NaN          Assessing the significance of differences in distributions         title  \n4  6       NaN        NaN          The Two Cultures: statistics vs. machine learning?                 title  ",
      "text/html": "<div>\n<style scoped>\n    .dataframe tbody tr th:only-of-type {\n        vertical-align: middle;\n    }\n\n    .dataframe tbody tr th {\n        vertical-align: top;\n    }\n\n    .dataframe thead th {\n        text-align: right;\n    }\n</style>\n<table border=\"1\" class=\"dataframe\">\n  <thead>\n    <tr style=\"text-align: right;\">\n      <th></th>\n      <th>post_id</th>\n      <th>parent_id</th>\n      <th>comment_id</th>\n      <th>text</th>\n      <th>category</th>\n    </tr>\n  </thead>\n  <tbody>\n    <tr>\n      <th>0</th>\n      <td>1</td>\n      <td>NaN</td>\n      <td>NaN</td>\n      <td>Eliciting priors from experts</td>\n      <td>title</td>\n    </tr>\n    <tr>\n      <th>1</th>\n      <td>2</td>\n      <td>NaN</td>\n      <td>NaN</td>\n      <td>What is normality?</td>\n      <td>title</td>\n    </tr>\n    <tr>\n      <th>2</th>\n      <td>3</td>\n      <td>NaN</td>\n      <td>NaN</td>\n      <td>What are some valuable Statistical Analysis open source projects?</td>\n      <td>title</td>\n    </tr>\n    <tr>\n      <th>3</th>\n      <td>4</td>\n      <td>NaN</td>\n      <td>NaN</td>\n      <td>Assessing the significance of differences in distributions</td>\n      <td>title</td>\n    </tr>\n    <tr>\n      <th>4</th>\n      <td>6</td>\n      <td>NaN</td>\n      <td>NaN</td>\n      <td>The Two Cultures: statistics vs. machine learning?</td>\n      <td>title</td>\n    </tr>\n  </tbody>\n</table>\n</div>"
     },
     "metadata": {},
     "output_type": "execute_result",
     "execution_count": 36
    }
   ],
   "source": [
    "# display the first 5 rows of data in the csv file.\n",
    "df.head(DISPLAY_ROWS)"
   ]
  },
  {
   "cell_type": "markdown",
   "metadata": {
    "pycharm": {
     "is_executing": false,
     "name": "#%% md\n"
    }
   },
   "source": [
    "### Data Wrangling"
   ]
  },
  {
   "cell_type": "code",
   "execution_count": 37,
   "metadata": {
    "pycharm": {
     "is_executing": false,
     "name": "#%%\n"
    }
   },
   "outputs": [
    {
     "name": "stderr",
     "text": [
      "/home/matgarland/anaconda3/envs/manning_proj/lib/python3.7/site-packages/pandas/core/strings.py:1952: UserWarning: This pattern has match groups. To actually get the groups, use str.extract.\n",
      "  return func(self, *args, **kwargs)\n"
     ],
     "output_type": "stream"
    }
   ],
   "source": [
    "# tokenize(t)\n",
    "# Tokenize the text\n",
    "def tokenize(t):\n",
    "    # word_tokenize() uses TreebankWordTokenizer internally\n",
    "    return ' '.join( word_tokenize(t) )\n",
    "\n",
    "# expand_contractions(t)\n",
    "# A function to expand all of the english contractions into their expanded form\n",
    "def expand_contraction(t):\n",
    "    # a dictionary of english contractions mapped to the corresponding expanded form\n",
    "    # possibly not all of them, but certainly a good representation.\n",
    "    dict_contraction = {\n",
    "        'i\\'d'      :   'I would',\n",
    "        'i\\'ll'     :   'I will',\n",
    "        'i\\'ve'     :   'I have',\n",
    "        'i\\'m'      :   'I am',\n",
    "        'you\\'d'    :   'you would',\n",
    "        'you\\'re'   :   'you are',\n",
    "        'you\\'ll'   :   'you will',\n",
    "        'you\\'ve'   :   'you have',\n",
    "        'isn\\'t'    :   'is not',\n",
    "        'it\\'s'     :   'it is',\n",
    "        'it\\'ll'    :   'it will',\n",
    "        'it\\'d'     :   'it had',\n",
    "        'we\\'d'     :   'we would',\n",
    "        'we\\'re'    :   'we are',\n",
    "        'we\\'ll'    :   'we will',\n",
    "        'wasn\\'t'   :   'was not',\n",
    "        'weren\\'t'  :   'were not',\n",
    "        'aren\\'t'   :   'are not',\n",
    "        'they\\'d'   :   'they would',\n",
    "        'they\\'ll'  :   'they will',\n",
    "        'they\\'re'  :   'they are',\n",
    "        'they\\'ve'  :   'they have',\n",
    "        'let\\'s'    :   'let us',\n",
    "        'doesn\\'t'  :   'does not',\n",
    "        'can\\'t'    :   'can not',\n",
    "        'won\\'t'    :   'will not',\n",
    "        'wouldn\\'t' :   'would not',\n",
    "        'who\\'s'    :   'who is',\n",
    "        'what\\'s'   :   'what is',\n",
    "        'when\\'s'   :   'when is',\n",
    "        'where\\'s'  :   'where is',\n",
    "        'that\\'s'   :   'that has',\n",
    "        'that\\'d'   :   'that would',\n",
    "        'that\\'ll'  :   'that will',\n",
    "        'now\\'s'    :   'now is',\n",
    "        'how\\'s'    :   'how is',\n",
    "        'how\\'ll'   :   'how will',\n",
    "        'how\\'d'    :   'how would'\n",
    "    }\n",
    "    # Expand all contractions into their corresponding expanded form\n",
    "    for k,v in dict_contraction.items():\n",
    "        t = re.sub( re.escape(k), v, str(t), 0, re.IGNORECASE | re.MULTILINE )\n",
    "    return ''.join(t) \n",
    "# ****************************************************************************\n",
    "# Regular Expressions and function application\n",
    "\n",
    "# (1) expand all contractions using the local function, expand_contraction()\n",
    "df['normalized']        = df['text'].apply( expand_contraction )\n",
    "\n",
    "# (2) Remove lines containing Latex expressions, some latex expressions have double '$' hence used regex is a modified version of \\$([^$]*)\\$.\n",
    "remove_rows = df['normalized'].str.contains( '\\$+([^$]+)\\$+', flags = re.MULTILINE | re.IGNORECASE, regex = True )\n",
    "df = df[~remove_rows]\n",
    "\n",
    "# (3) remove data from within the row, found between any of the patterns contained below \n",
    "  # A) Remove rows containing <code> xyz blah ...</code>\n",
    "  # B) Remove rows containing <pre> xyz blah ...</pre>\n",
    "df['normalized'] = df['normalized'].replace( to_replace = '(<code>[^.]*<\\/code>)|(<pre>[\\s\\S]*?<\\/pre>)', value = ' ', flags = re.MULTILINE | re.IGNORECASE, regex = True )\n",
    "\n",
    "# (4) Delete any @name symbol from within the csv row data, optionally match @name[space| ,| :]\n",
    "df['normalized'] = df['normalized'].replace( to_replace = '@[\\s]?[aA-zZ0-9.]+[\\s:,]?', value = ' ', flags = re.MULTILINE | re.IGNORECASE, regex = True )\n",
    "\n",
    "# (5) Replace backslashes\n",
    "df['normalized'] = df['normalized'].replace( to_replace = '[\\\\]+', value = ' ', flags = re.MULTILINE | re.IGNORECASE, regex = True )        \n",
    "\n",
    "# (6) Remove single quotes, double quotes or back ticks\n",
    "df['normalized'] = df['normalized'].replace( to_replace = '[\\'\\\"\\`]+', value = '', flags = re.MULTILINE | re.IGNORECASE, regex=True )\n",
    "\n",
    "# (7) Replace occurrences of * OR ** with space\n",
    "df['normalized'] = df['normalized'].replace( to_replace = '(\\*)+', value = ' ', flags = re.MULTILINE | re.IGNORECASE, regex=True )\n",
    "\n",
    "# (8) Remove any numbers optionally in parenthesis e.g 1, 1), (1,), or (1) (must trail markdown url removal)\n",
    "df['normalized'] = df['normalized'].replace( to_replace = '[+\\(]?[\\d][,0-9]?[\\)]?', value = '', flags = re.MULTILINE | re.IGNORECASE, regex = True )\n",
    "\n",
    "# (9) Remove text span\n",
    "df['normalized'] = df['normalized'].replace( to_replace = '<span class=\"math\\.container\">[^<span]*<\\/span>', value = '', flags = re.MULTILINE | re.IGNORECASE, regex = True )\n",
    "\n",
    "# (10) remove html5 node tags e.g. <p><bold>blah ...</bold><strong>blah blah ...</strong></strong></p>\n",
    "df['normalized'] = df['normalized'].replace( to_replace = '(\\<(\\/)?(\\w)*(\\d)?\\>)', value = '', flags = re.MULTILINE | re.IGNORECASE, regex = True )\n",
    "\n",
    "# (11) Replace >= 2 whitespace characters with a single whitespace\n",
    "df['normalized'] = df['normalized'].replace( to_replace = '[\\s]{2,}', value = ' ', flags = re.MULTILINE | re.IGNORECASE, regex = True )\n",
    "\n",
    "# (12) Remove leading and trailing carriage returns and line feeds, if any\n",
    "df['normalized'] = df['normalized'].replace( to_replace = '^[\\r\\n]+|\\.|[\\r\\n]+$', value = ' ', flags = re.MULTILINE | re.IGNORECASE, regex = True )\n",
    "\n",
    "# (13) tokenize string data using the nltk word tokenizer, including applying lowercase to all text, As 'Tokenized' column data\n",
    "df['tokenized'] = df['normalized'].apply( tokenize ).str.lower()\n",
    "\n",
    "# Drop the normalized column\n",
    "df.drop( labels = 'normalized', axis = 1, inplace = True)"
   ]
  },
  {
   "cell_type": "markdown",
   "source": [
    "### Resulting csv data structure"
   ],
   "metadata": {
    "collapsed": false
   }
  },
  {
   "cell_type": "code",
   "execution_count": 38,
   "outputs": [
    {
     "data": {
      "text/plain": "   post_id  parent_id  comment_id                                                               text category                                                         normalized\n0  1       NaN        NaN          Eliciting priors from experts                                      title    Eliciting priors from experts                                    \n1  2       NaN        NaN          What is normality?                                                 title    What is normality?                                               \n2  3       NaN        NaN          What are some valuable Statistical Analysis open source projects?  title    What are some valuable Statistical Analysis open source projects?\n3  4       NaN        NaN          Assessing the significance of differences in distributions         title    Assessing the significance of differences in distributions       \n4  6       NaN        NaN          The Two Cultures: statistics vs. machine learning?                 title    The Two Cultures: statistics vs. machine learning?               ",
      "text/html": "<div>\n<style scoped>\n    .dataframe tbody tr th:only-of-type {\n        vertical-align: middle;\n    }\n\n    .dataframe tbody tr th {\n        vertical-align: top;\n    }\n\n    .dataframe thead th {\n        text-align: right;\n    }\n</style>\n<table border=\"1\" class=\"dataframe\">\n  <thead>\n    <tr style=\"text-align: right;\">\n      <th></th>\n      <th>post_id</th>\n      <th>parent_id</th>\n      <th>comment_id</th>\n      <th>text</th>\n      <th>category</th>\n      <th>normalized</th>\n    </tr>\n  </thead>\n  <tbody>\n    <tr>\n      <th>0</th>\n      <td>1</td>\n      <td>NaN</td>\n      <td>NaN</td>\n      <td>Eliciting priors from experts</td>\n      <td>title</td>\n      <td>Eliciting priors from experts</td>\n    </tr>\n    <tr>\n      <th>1</th>\n      <td>2</td>\n      <td>NaN</td>\n      <td>NaN</td>\n      <td>What is normality?</td>\n      <td>title</td>\n      <td>What is normality?</td>\n    </tr>\n    <tr>\n      <th>2</th>\n      <td>3</td>\n      <td>NaN</td>\n      <td>NaN</td>\n      <td>What are some valuable Statistical Analysis open source projects?</td>\n      <td>title</td>\n      <td>What are some valuable Statistical Analysis open source projects?</td>\n    </tr>\n    <tr>\n      <th>3</th>\n      <td>4</td>\n      <td>NaN</td>\n      <td>NaN</td>\n      <td>Assessing the significance of differences in distributions</td>\n      <td>title</td>\n      <td>Assessing the significance of differences in distributions</td>\n    </tr>\n    <tr>\n      <th>4</th>\n      <td>6</td>\n      <td>NaN</td>\n      <td>NaN</td>\n      <td>The Two Cultures: statistics vs. machine learning?</td>\n      <td>title</td>\n      <td>The Two Cultures: statistics vs. machine learning?</td>\n    </tr>\n  </tbody>\n</table>\n</div>"
     },
     "metadata": {},
     "output_type": "execute_result",
     "execution_count": 38
    }
   ],
   "source": [
    "# display wrangled data\n",
    "df.head(DISPLAY_ROWS)"
   ],
   "metadata": {
    "collapsed": false,
    "pycharm": {
     "name": "#%%\n",
     "is_executing": false
    }
   }
  },
  {
   "cell_type": "markdown",
   "source": [
    "### Write the data structure out to a new data file."
   ],
   "metadata": {
    "collapsed": false
   }
  },
  {
   "cell_type": "code",
   "execution_count": 39,
   "outputs": [],
   "source": [
    "# Save wrangled data to a local csv data file\n",
    "df.to_csv( OUT_DATA_FILE, index=False )"
   ],
   "metadata": {
    "collapsed": false,
    "pycharm": {
     "name": "#%%\n",
     "is_executing": false
    }
   }
  },
  {
   "cell_type": "code",
   "execution_count": 39,
   "outputs": [],
   "source": [
    " "
   ],
   "metadata": {
    "collapsed": false,
    "pycharm": {
     "name": "#%%\n",
     "is_executing": false
    }
   }
  }
 ],
 "metadata": {
  "kernelspec": {
   "display_name": "Python 3",
   "language": "python",
   "name": "python3"
  },
  "language_info": {
   "codemirror_mode": {
    "name": "ipython",
    "version": 3
   },
   "file_extension": ".py",
   "mimetype": "text/x-python",
   "name": "python",
   "nbconvert_exporter": "python",
   "pygments_lexer": "ipython3",
   "version": "3.7.6"
  },
  "pycharm": {
   "stem_cell": {
    "cell_type": "raw",
    "source": [],
    "metadata": {
     "collapsed": false
    }
   }
  }
 },
 "nbformat": 4,
 "nbformat_minor": 1
}